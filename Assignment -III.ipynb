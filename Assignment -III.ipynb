{
 "cells": [
  {
   "cell_type": "markdown",
   "id": "2c769db1",
   "metadata": {},
   "source": [
    "Experiment 3<br>\n",
    "Study and Implement image Transformation Technique"
   ]
  },
  {
   "cell_type": "code",
   "execution_count": 1,
   "id": "22693015",
   "metadata": {},
   "outputs": [],
   "source": [
    "#Scaling"
   ]
  },
  {
   "cell_type": "code",
   "execution_count": null,
   "id": "fa493f45",
   "metadata": {},
   "outputs": [],
   "source": [
    "import cv2"
   ]
  },
  {
   "cell_type": "code",
   "execution_count": null,
   "id": "0f28ed80",
   "metadata": {},
   "outputs": [],
   "source": [
    "import numpy as np\n",
    "image = cv2.imread(\"jerry.jpg\")"
   ]
  },
  {
   "cell_type": "code",
   "execution_count": null,
   "id": "fa52d7b4",
   "metadata": {},
   "outputs": [],
   "source": [
    "num_rows, num_column = image.shape[:2]"
   ]
  },
  {
   "cell_type": "code",
   "execution_count": null,
   "id": "205b0dc7",
   "metadata": {},
   "outputs": [],
   "source": [
    "translation_matrix = np.float32([[1,0,70],[0,1,110]])\n",
    "image_translation = cv2.warpAffine(image,translation_matrix,(num_rows//2,num_column//2))  #The wrapAffine function isd used to define the translated image."
   ]
  },
  {
   "cell_type": "code",
   "execution_count": null,
   "id": "5bb9f592",
   "metadata": {},
   "outputs": [],
   "source": [
    "cv2.imshow(\"translation\",image_translation)\n",
    "cv2.waitKey(0)"
   ]
  },
  {
   "cell_type": "code",
   "execution_count": 7,
   "id": "b1cceca9",
   "metadata": {},
   "outputs": [],
   "source": [
    "#Rotation"
   ]
  },
  {
   "cell_type": "code",
   "execution_count": 2,
   "id": "fcc9fcb9",
   "metadata": {},
   "outputs": [],
   "source": [
    "import cv2\n",
    "import numpy as np\n",
    "img = cv2.imread(\"dog.jpg\")"
   ]
  },
  {
   "cell_type": "code",
   "execution_count": 3,
   "id": "05000715",
   "metadata": {},
   "outputs": [],
   "source": [
    "image_scaled = cv2.resize(img,None,fx = 1.2,fy = 1.2,interpolation = cv2.INTER_LINEAR)\n",
    "cv2.imshow(\"Scaling Linear Interpolation\",image_scaled )"
   ]
  },
  {
   "cell_type": "code",
   "execution_count": 4,
   "id": "69cd7069",
   "metadata": {},
   "outputs": [],
   "source": [
    "image_scaled = cv2.resize(img,None,fx = 1.2,fy = 1.2,interpolation = cv2.INTER_LINEAR)\n",
    "cv2.imshow(\"Scaling Linear Interpolation\",image_scaled )"
   ]
  },
  {
   "cell_type": "code",
   "execution_count": null,
   "id": "9546f660",
   "metadata": {},
   "outputs": [],
   "source": [
    "cv2.imshow(\"scaling skewed Size\",image_scaled)\n",
    "cv2.waitKey(0)"
   ]
  },
  {
   "cell_type": "code",
   "execution_count": null,
   "id": "1c9b4c6c",
   "metadata": {},
   "outputs": [],
   "source": []
  }
 ],
 "metadata": {
  "kernelspec": {
   "display_name": "Python 3",
   "language": "python",
   "name": "python3"
  },
  "language_info": {
   "codemirror_mode": {
    "name": "ipython",
    "version": 3
   },
   "file_extension": ".py",
   "mimetype": "text/x-python",
   "name": "python",
   "nbconvert_exporter": "python",
   "pygments_lexer": "ipython3",
   "version": "3.8.8"
  }
 },
 "nbformat": 4,
 "nbformat_minor": 5
}
